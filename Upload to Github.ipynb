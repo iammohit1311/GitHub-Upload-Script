{
 "cells": [
  {
   "cell_type": "code",
   "execution_count": 1,
   "id": "bf64fe90",
   "metadata": {},
   "outputs": [
    {
     "name": "stdout",
     "output_type": "stream",
     "text": [
      "Defaulting to user installation because normal site-packages is not writeable\n",
      "Requirement already satisfied: requests in ./.local/lib/python3.10/site-packages (2.30.0)\n",
      "Requirement already satisfied: charset-normalizer<4,>=2 in ./.local/lib/python3.10/site-packages (from requests) (3.1.0)\n",
      "Requirement already satisfied: idna<4,>=2.5 in /usr/lib/python3/dist-packages (from requests) (3.3)\n",
      "Requirement already satisfied: urllib3<3,>=1.21.1 in ./.local/lib/python3.10/site-packages (from requests) (2.0.5)\n",
      "Requirement already satisfied: certifi>=2017.4.17 in /usr/lib/python3/dist-packages (from requests) (2020.6.20)\n",
      "\n",
      "\u001b[1m[\u001b[0m\u001b[34;49mnotice\u001b[0m\u001b[1;39;49m]\u001b[0m\u001b[39;49m A new release of pip is available: \u001b[0m\u001b[31;49m23.2.1\u001b[0m\u001b[39;49m -> \u001b[0m\u001b[32;49m23.3.2\u001b[0m\n",
      "\u001b[1m[\u001b[0m\u001b[34;49mnotice\u001b[0m\u001b[1;39;49m]\u001b[0m\u001b[39;49m To update, run: \u001b[0m\u001b[32;49mpython3 -m pip install --upgrade pip\u001b[0m\n",
      "Note: you may need to restart the kernel to use updated packages.\n"
     ]
    }
   ],
   "source": [
    "pip install requests"
   ]
  },
  {
   "cell_type": "code",
   "execution_count": 4,
   "id": "09b67df2",
   "metadata": {},
   "outputs": [
    {
     "name": "stdout",
     "output_type": "stream",
     "text": [
      "File uploaded successfully.\n"
     ]
    }
   ],
   "source": [
    "import requests\n",
    "from requests.auth import HTTPBasicAuth\n",
    "import base64\n",
    "\n",
    "# GitHub repository information\n",
    "username = \"mohitsriv99\"\n",
    "repository = \"hsamples\"\n",
    "file_path = \"edge.png\"  # Replace with the actual path to your JPG file\n",
    "branch = \"main\"  # or the branch you want to push to\n",
    "\n",
    "# GitHub API URL for creating a new file\n",
    "url = f\"https://api.github.com/repos/{username}/{repository}/contents/{file_path}\"\n",
    "\n",
    "# GitHub personal access token\n",
    "token = \"\"  # Replace with your actual access token\n",
    "\n",
    "# Encode the image file as base64\n",
    "with open(file_path, \"rb\") as image_file:\n",
    "    encoded_file = base64.b64encode(image_file.read()).decode(\"utf-8\")\n",
    "\n",
    "# Create a JSON payload for the API request\n",
    "payload = {\n",
    "    \"message\": \"Upload image\",\n",
    "    \"content\": encoded_file,\n",
    "    \"branch\": branch\n",
    "}\n",
    "\n",
    "# Set up authentication headers using your personal access token\n",
    "headers = {\n",
    "    \"Authorization\": f\"token {token}\"\n",
    "}\n",
    "\n",
    "# Make the API request to create a new file\n",
    "response = requests.put(url, json=payload, headers=headers)\n",
    "\n",
    "# Check the response\n",
    "if response.status_code == 201:\n",
    "    print(\"File uploaded successfully.\")\n",
    "else:\n",
    "    print(f\"Failed to upload file. Status code: {response.status_code}, Response: {response.text}\")\n"
   ]
  }
 ],
 "metadata": {
  "kernelspec": {
   "display_name": "Python 3 (ipykernel)",
   "language": "python",
   "name": "python3"
  },
  "language_info": {
   "codemirror_mode": {
    "name": "ipython",
    "version": 3
   },
   "file_extension": ".py",
   "mimetype": "text/x-python",
   "name": "python",
   "nbconvert_exporter": "python",
   "pygments_lexer": "ipython3",
   "version": "3.10.12"
  }
 },
 "nbformat": 4,
 "nbformat_minor": 5
}
